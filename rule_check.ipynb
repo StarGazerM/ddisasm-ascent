{
 "cells": [
  {
   "cell_type": "code",
   "execution_count": 42,
   "metadata": {},
   "outputs": [],
   "source": [
    "import os\n",
    "import shutil"
   ]
  },
  {
   "cell_type": "markdown",
   "metadata": {},
   "source": [
    "binaries: raw binaries to run  \n",
    "dataset: csvs, each subfolder name is corresponding to files in binaries  \n",
    "output: outputs, each subfolder name is corresponding to files in binaries  "
   ]
  },
  {
   "cell_type": "code",
   "execution_count": 43,
   "metadata": {},
   "outputs": [],
   "source": [
    "import subprocess\n",
    "\n",
    "def run_command_with_timeout(command, timeout=600):\n",
    "    \"\"\"\n",
    "    Run a command for a specific duration (timeout) in seconds,\n",
    "    and capture its output.\n",
    "    \"\"\"\n",
    "    print(command)\n",
    "    try:\n",
    "        result = subprocess.run(\n",
    "            command, \n",
    "            shell=True, \n",
    "            stdout=subprocess.PIPE, \n",
    "            stderr=subprocess.PIPE, \n",
    "            text=True, \n",
    "            timeout=timeout\n",
    "        )\n",
    "        return result.stdout + result.stderr\n",
    "    except subprocess.TimeoutExpired:\n",
    "        return \"Time out after {} seconds.\".format(timeout)\n",
    "\n"
   ]
  },
  {
   "cell_type": "code",
   "execution_count": 44,
   "metadata": {},
   "outputs": [
    {
     "name": "stdout",
     "output_type": "stream",
     "text": [
      "export LD_LIBRARY_PATH=${LD_LIBRARY_PATH:+$LD_LIBRARY_PATH:}`pwd`&&souffle -L /usr/local/src/ddisasm/build/lib/ -j 12 -o ./extracted.bin ./ddisasm.dl\n"
     ]
    },
    {
     "data": {
      "text/plain": [
       "'Warning: No rules/facts defined for relation functor_data_valid in file ddisasm.dl at line 367\\n.decl functor_data_valid(EA:address,Size:unsigned, Res: unsigned)\\n------^-----------------------------------------------------------\\nWarning: Variable _tmp_53 marked as singleton but occurs more than once in file ddisasm.dl at line 415\\n    _tmp_53 = (EA+DisplacementOffset).\\n----^----------------------------------\\nWarning: Variable _tmp_69 marked as singleton but occurs more than once in file ddisasm.dl at line 422\\n    _tmp_69 = as(Size, number).\\n----^---------------------------\\nWarning: Variable _tmp_70 marked as singleton but occurs more than once in file ddisasm.dl at line 692\\n   _tmp_70 = as(Size, number).\\n---^---------------------------\\nWarning: Variable _tmp_71 marked as singleton but occurs more than once in file ddisasm.dl at line 728\\n    _tmp_71 = (8*Size).\\n----^-------------------\\nWarning: Variable _tmp_72 marked as singleton but occurs more than once in file ddisasm.dl at line 734\\n    _tmp_72 = (8*Size).\\n----^-------------------\\nWarning: Variable _tmp_73 marked as singleton but occurs more than once in file ddisasm.dl at line 790\\n    _tmp_73 = as(TableReference, address).\\n----^--------------------------------------\\nWarning: Variable _tmp_74 marked as singleton but occurs more than once in file ddisasm.dl at line 800\\n    _tmp_74 = as(TableReference, address).\\n----^--------------------------------------\\nWarning: Variable _tmp_153 marked as singleton but occurs more than once in file ddisasm.dl at line 811\\n    _tmp_153 = as(TableReference, address).\\n----^---------------------------------------\\nWarning: Variable _tmp_154 marked as singleton but occurs more than once in file ddisasm.dl at line 822\\n    _tmp_154 = as(TableReference, address).\\n----^---------------------------------------\\nWarning: Variable _tmp_88 marked as singleton but occurs more than once in file ddisasm.dl at line 1080\\n    _tmp_88 = as(Offset, address).\\n----^------------------------------\\nWarning: Variable _tmp_318 marked as singleton but occurs more than once in file ddisasm.dl at line 1101\\n    _tmp_318 = (Reference+@functor_data_unsigned(TableStart,Size)).\\n----^---------------------------------------------------------------\\nWarning: Variable _tmp_319 marked as singleton but occurs more than once in file ddisasm.dl at line 1127\\n    _tmp_319 = as((as(Reference, number)+(as(Scale, number)*@functor_data_signed(TableStart,Size))), address).\\n----^----------------------------------------------------------------------------------------------------------\\nWarning: Variable _tmp_320 marked as singleton but occurs more than once in file ddisasm.dl at line 1156\\n    _tmp_320 = (Reference+@functor_data_unsigned((LastEA+Size),Size)).\\n----^------------------------------------------------------------------\\nWarning: Variable _tmp_321 marked as singleton but occurs more than once in file ddisasm.dl at line 1188\\n    _tmp_321 = as((as(Reference, number)+(as(Scale, number)*@functor_data_signed((LastEA+Size),Size))), address).\\n----^-------------------------------------------------------------------------------------------------------------\\nWarning: Variable _tmp_137 marked as singleton but occurs more than once in file ddisasm.dl at line 1299\\n    _tmp_137 = as(EA, number).\\n----^--------------------------\\nWarning: Variable _tmp_138 marked as singleton but occurs more than once in file ddisasm.dl at line 1307\\n    _tmp_138 = as(EA, number).\\n----^--------------------------\\n'"
      ]
     },
     "execution_count": 44,
     "metadata": {},
     "output_type": "execute_result"
    }
   ],
   "source": [
    "run_command_with_timeout(\"export LD_LIBRARY_PATH=${LD_LIBRARY_PATH:+$LD_LIBRARY_PATH:}`pwd`&&souffle -L /usr/local/src/ddisasm/build/lib/ -j 12 -o ./extracted.bin ./ddisasm.dl\")"
   ]
  },
  {
   "cell_type": "code",
   "execution_count": 45,
   "metadata": {},
   "outputs": [
    {
     "name": "stdout",
     "output_type": "stream",
     "text": [
      "cargo build --release\n"
     ]
    },
    {
     "data": {
      "text/plain": [
       "'\\x1b[1m\\x1b[32m   Compiling\\x1b[0m ddisasm-ascent v0.1.0 (/workspaces/ddisasm-ascent)\\n\\x1b[0m\\x1b[1m\\x1b[33mwarning\\x1b[0m\\x1b[0m\\x1b[1m: unused import: `std::process::Command`\\x1b[0m\\n\\x1b[0m \\x1b[0m\\x1b[0m\\x1b[1m\\x1b[38;5;12m--> \\x1b[0m\\x1b[0msrc/main.rs:2:5\\x1b[0m\\n\\x1b[0m  \\x1b[0m\\x1b[0m\\x1b[1m\\x1b[38;5;12m|\\x1b[0m\\n\\x1b[0m\\x1b[1m\\x1b[38;5;12m2\\x1b[0m\\x1b[0m \\x1b[0m\\x1b[0m\\x1b[1m\\x1b[38;5;12m|\\x1b[0m\\x1b[0m \\x1b[0m\\x1b[0muse std::process::Command;\\x1b[0m\\n\\x1b[0m  \\x1b[0m\\x1b[0m\\x1b[1m\\x1b[38;5;12m|\\x1b[0m\\x1b[0m     \\x1b[0m\\x1b[0m\\x1b[1m\\x1b[33m^^^^^^^^^^^^^^^^^^^^^\\x1b[0m\\n\\x1b[0m  \\x1b[0m\\x1b[0m\\x1b[1m\\x1b[38;5;12m|\\x1b[0m\\n\\x1b[0m  \\x1b[0m\\x1b[0m\\x1b[1m\\x1b[38;5;12m= \\x1b[0m\\x1b[0m\\x1b[1mnote\\x1b[0m\\x1b[0m: `#[warn(unused_imports)]` on by default\\x1b[0m\\n\\n\\x1b[0m\\x1b[1m\\x1b[33mwarning\\x1b[0m\\x1b[0m\\x1b[1m: unused import: `itertools::Itertools`\\x1b[0m\\n\\x1b[0m \\x1b[0m\\x1b[0m\\x1b[1m\\x1b[38;5;12m--> \\x1b[0m\\x1b[0msrc/main.rs:7:5\\x1b[0m\\n\\x1b[0m  \\x1b[0m\\x1b[0m\\x1b[1m\\x1b[38;5;12m|\\x1b[0m\\n\\x1b[0m\\x1b[1m\\x1b[38;5;12m7\\x1b[0m\\x1b[0m \\x1b[0m\\x1b[0m\\x1b[1m\\x1b[38;5;12m|\\x1b[0m\\x1b[0m \\x1b[0m\\x1b[0muse itertools::Itertools;\\x1b[0m\\n\\x1b[0m  \\x1b[0m\\x1b[0m\\x1b[1m\\x1b[38;5;12m|\\x1b[0m\\x1b[0m     \\x1b[0m\\x1b[0m\\x1b[1m\\x1b[33m^^^^^^^^^^^^^^^^^^^^\\x1b[0m\\n\\n\\x1b[0m\\x1b[1m\\x1b[33mwarning\\x1b[0m\\x1b[0m\\x1b[1m: unused variable: `binary_path`\\x1b[0m\\n\\x1b[0m    \\x1b[0m\\x1b[0m\\x1b[1m\\x1b[38;5;12m--> \\x1b[0m\\x1b[0msrc/main.rs:1454:9\\x1b[0m\\n\\x1b[0m     \\x1b[0m\\x1b[0m\\x1b[1m\\x1b[38;5;12m|\\x1b[0m\\n\\x1b[0m\\x1b[1m\\x1b[38;5;12m1454\\x1b[0m\\x1b[0m \\x1b[0m\\x1b[0m\\x1b[1m\\x1b[38;5;12m|\\x1b[0m\\x1b[0m \\x1b[0m\\x1b[0m    let binary_path = std::env::args().nth(2).unwrap();\\x1b[0m\\n\\x1b[0m     \\x1b[0m\\x1b[0m\\x1b[1m\\x1b[38;5;12m|\\x1b[0m\\x1b[0m         \\x1b[0m\\x1b[0m\\x1b[1m\\x1b[33m^^^^^^^^^^^\\x1b[0m\\x1b[0m \\x1b[0m\\x1b[0m\\x1b[1m\\x1b[33mhelp: if this is intentional, prefix it with an underscore: `_binary_path`\\x1b[0m\\n\\x1b[0m     \\x1b[0m\\x1b[0m\\x1b[1m\\x1b[38;5;12m|\\x1b[0m\\n\\x1b[0m     \\x1b[0m\\x1b[0m\\x1b[1m\\x1b[38;5;12m= \\x1b[0m\\x1b[0m\\x1b[1mnote\\x1b[0m\\x1b[0m: `#[warn(unused_variables)]` on by default\\x1b[0m\\n\\n\\x1b[1m\\x1b[33mwarning\\x1b[0m\\x1b[1m:\\x1b[0m `ddisasm-ascent` (bin \"ddisasm-ascent\") generated 3 warnings (run `cargo fix --bin \"ddisasm-ascent\"` to apply 2 suggestions)\\n\\x1b[1m\\x1b[32m    Finished\\x1b[0m `release` profile [optimized] target(s) in 1m 19s\\n'"
      ]
     },
     "execution_count": 45,
     "metadata": {},
     "output_type": "execute_result"
    }
   ],
   "source": [
    "run_command_with_timeout(\"cargo build --release\")"
   ]
  },
  {
   "cell_type": "code",
   "execution_count": 46,
   "metadata": {},
   "outputs": [
    {
     "name": "stdout",
     "output_type": "stream",
     "text": [
      "LD_LIBRARY_PATH=${LD_LIBRARY_PATH:+$LD_LIBRARY_PATH:}`pwd` ddisasm --debug-dir dataset/top binaries/top\n",
      "LD_LIBRARY_PATH=${LD_LIBRARY_PATH:+$LD_LIBRARY_PATH:}`pwd` ddisasm -I --debug-dir /tmp/693761f2acd92052 binaries/top\n",
      "LD_LIBRARY_PATH=${LD_LIBRARY_PATH:+$LD_LIBRARY_PATH:}`pwd` DDISASM_DEBUG_DIR=dataset/top/disassembly DDISASM_GTIRB_MODULE_NAME=top ./extracted.bin -j 16  -F dataset/top/disassembly -D output/top/output\n",
      "DDISASM_GTIRB_MODULE_NAME=top DDISASM_DEBUG_DIR=./dataset/top/disassembly/ LD_LIBRARY_PATH=/usr/local/src/ddisasm/build/lib:$LD_LIBRARY_PATH ./target/release/ddisasm-ascent ./dataset/top binaries/top \n"
     ]
    },
    {
     "name": "stderr",
     "output_type": "stream",
     "text": [
      "100%|██████████| 38/38 [00:00<00:00, 50199.54it/s]\n"
     ]
    }
   ],
   "source": [
    "from tqdm import tqdm\n",
    "for bin in os.listdir(\"binaries\"):\n",
    "    os.system(f\"rm -rf dataset/{bin} output/{bin}\")\n",
    "\n",
    "    os.makedirs(f\"output/{bin}\", exist_ok=True)\n",
    "    os.makedirs(f\"dataset/{bin}\", exist_ok=True)\n",
    "    os.makedirs(f\"output/{bin}/output\", exist_ok=True)\n",
    "\n",
    "    cmd = \"LD_LIBRARY_PATH=${LD_LIBRARY_PATH:+$LD_LIBRARY_PATH:}`pwd` \"+f\"ddisasm --debug-dir dataset/{bin} binaries/{bin}\"\n",
    "    run_command_with_timeout(cmd)\n",
    "\n",
    "\n",
    "    tmp_dir = os.urandom(8).hex()\n",
    "    cmd = \"LD_LIBRARY_PATH=${LD_LIBRARY_PATH:+$LD_LIBRARY_PATH:}`pwd` \"+f\"ddisasm -I --debug-dir /tmp/{tmp_dir} binaries/{bin}\"\n",
    "    run_command_with_timeout(cmd)\n",
    "    shutil.copy(f\"/tmp/{tmp_dir}/disassembly/binary.gtirb\", f\"dataset/{bin}/disassembly/binary.gtirb\")\n",
    "\n",
    "\n",
    "    cmd = \"LD_LIBRARY_PATH=${LD_LIBRARY_PATH:+$LD_LIBRARY_PATH:}`pwd` \"+f\"DDISASM_DEBUG_DIR=dataset/{bin}/disassembly DDISASM_GTIRB_MODULE_NAME={bin} ./extracted.bin -j 16  -F dataset/{bin}/disassembly -D output/{bin}/output\"\n",
    "    output = run_command_with_timeout(cmd)\n",
    "    with open(f\"output/{bin}/ddisasm_output.txt\", \"w\") as f:\n",
    "        f.write(output)\n",
    "\n",
    "    ddisasm_out = output.split(\"\\n\")\n",
    "    \n",
    "\n",
    "    cmd = f\"DDISASM_GTIRB_MODULE_NAME={bin} DDISASM_DEBUG_DIR=./dataset/{bin}/disassembly/ LD_LIBRARY_PATH=/usr/local/src/ddisasm/build/lib:$LD_LIBRARY_PATH ./target/release/ddisasm-ascent ./dataset/{bin} binaries/{bin} \"\n",
    "    output = run_command_with_timeout(cmd)\n",
    "    with open(f\"output/{bin}/ascent_output.txt\", \"w\") as f:\n",
    "        f.write(output)\n",
    "\n",
    "    for x in tqdm(ddisasm_out):\n",
    "        if x:\n",
    "            rel = x.split()[0]\n",
    "            count  = x.split()[1]\n",
    "            if f\"{rel} size: {count}\" not in output:\n",
    "                print(f\"Error in {bin} {rel} size: {count}\")\n"
   ]
  },
  {
   "cell_type": "code",
   "execution_count": null,
   "metadata": {},
   "outputs": [],
   "source": []
  }
 ],
 "metadata": {
  "kernelspec": {
   "display_name": "Python 3",
   "language": "python",
   "name": "python3"
  },
  "language_info": {
   "codemirror_mode": {
    "name": "ipython",
    "version": 3
   },
   "file_extension": ".py",
   "mimetype": "text/x-python",
   "name": "python",
   "nbconvert_exporter": "python",
   "pygments_lexer": "ipython3",
   "version": "3.8.10"
  }
 },
 "nbformat": 4,
 "nbformat_minor": 2
}
